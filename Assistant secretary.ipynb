{
 "cells": [
  {
   "cell_type": "code",
   "execution_count": 1,
   "id": "2d935c0e-4113-4fa5-b03a-c5f9489eadcd",
   "metadata": {
    "tags": []
   },
   "outputs": [],
   "source": [
    "documents = [\n",
    "{'type': 'passport', 'number': '2207 876234', 'name': 'Василий Гупкин'},\n",
    "{'type': 'invoice', 'number': '11-2', 'name': 'Геннадий Покемонов'},\n",
    "{'type': 'insurance', 'number': '10006', 'name': 'Аристарх Павлов'}\n",
    "]"
   ]
  },
  {
   "cell_type": "code",
   "execution_count": 2,
   "id": "599f1e9b-d47f-478c-a21d-b082af6657c6",
   "metadata": {
    "tags": []
   },
   "outputs": [],
   "source": [
    "directories = {\n",
    "'1': ['2207 876234', '11-2'],\n",
    "'2': ['10006'],\n",
    "'3': []\n",
    "}"
   ]
  },
  {
   "cell_type": "code",
   "execution_count": 3,
   "id": "bf1fedb8-c388-46eb-9f53-4ed485ed1ec8",
   "metadata": {
    "tags": []
   },
   "outputs": [],
   "source": [
    "def get_key(documents, value):\n",
    "    for k, v in documents[0].items():\n",
    "        if v ==value and k != None:\n",
    "            return k\n",
    "        else: \n",
    "            for k, v in documents[1].items():\n",
    "                if v ==value and k != None:\n",
    "                    return k\n",
    "                else: \n",
    "                    for k, v in documents[2].items():\n",
    "                        if v ==value and k != None:\n",
    "                            return k"
   ]
  },
  {
   "cell_type": "code",
   "execution_count": 33,
   "id": "0aae06a0-7c10-475b-9f39-16235b76e2ab",
   "metadata": {
    "tags": []
   },
   "outputs": [
    {
     "name": "stdout",
     "output_type": "stream",
     "text": [
      "Введите команду:\n"
     ]
    },
    {
     "name": "stdin",
     "output_type": "stream",
     "text": [
      " p\n"
     ]
    },
    {
     "name": "stdout",
     "output_type": "stream",
     "text": [
      "Введите номер документа:\n"
     ]
    },
    {
     "name": "stdin",
     "output_type": "stream",
     "text": [
      " 10001\n"
     ]
    },
    {
     "name": "stdout",
     "output_type": "stream",
     "text": [
      "Владелец документа: владелец документа не найден\n"
     ]
    }
   ],
   "source": [
    "print(\"Введите команду:\")\n",
    "i = input()\n",
    "if i == 'p':\n",
    "    print(\"Введите номер документа:\")\n",
    "    i = input()\n",
    "    if get_key(documents, i) == None:\n",
    "        print(\"Владелец документа:\",\"владелец документа не найден\")\n",
    "    else:\n",
    "        if i == documents[0][get_key(documents, i)]:\n",
    "            print(\"Владелец документа:\")\n",
    "            print(documents[0]['name'])\n",
    "        else:\n",
    "            if i == documents[1][get_key(documents, i)]:\n",
    "                print(\"Владелец документа:\")\n",
    "                print(documents[1]['name'])\n",
    "            else:\n",
    "                if i == documents[2][get_key(documents, i)]:\n",
    "                    print(\"Владелец документа:\")\n",
    "                    print(documents[2]['name'])"
   ]
  },
  {
   "cell_type": "code",
   "execution_count": null,
   "id": "cf424590-bd5c-4818-a3b5-6414a8d3aefb",
   "metadata": {},
   "outputs": [],
   "source": []
  }
 ],
 "metadata": {
  "kernelspec": {
   "display_name": "Python 3",
   "language": "python",
   "name": "python3"
  },
  "language_info": {
   "codemirror_mode": {
    "name": "ipython",
    "version": 3
   },
   "file_extension": ".py",
   "mimetype": "text/x-python",
   "name": "python",
   "nbconvert_exporter": "python",
   "pygments_lexer": "ipython3",
   "version": "3.7.2"
  }
 },
 "nbformat": 4,
 "nbformat_minor": 5
}
